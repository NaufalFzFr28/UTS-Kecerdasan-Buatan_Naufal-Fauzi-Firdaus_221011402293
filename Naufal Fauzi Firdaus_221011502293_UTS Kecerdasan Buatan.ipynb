{
 "cells": [
  {
   "cell_type": "code",
   "execution_count": 2,
   "id": "ea176d81-1831-4a42-abc8-27843d7abba8",
   "metadata": {},
   "outputs": [],
   "source": [
    "# Data\n",
    "company_detail_list = [\n",
    "    {'name': 'Company 1', 'domain': 'Retail', 'country': 'United States'},\n",
    "    {'name': 'Company 2', 'domain': 'Technology', 'country': 'United Kingdom'},\n",
    "    {'name': 'Company 3', 'domain': 'Healthcare', 'country': 'United States'}\n",
    "]\n",
    "\n",
    "employee_detail_list = [\n",
    "    {'name': 'EMP-0001', 'first_name': 'John', 'last_name': 'Doe', 'full_name': 'John Doe', 'company': 'Company 1', 'nationality': 'Australia'},\n",
    "    {'name': 'EMP-0002', 'first_name': 'Tom', 'last_name': 'Smith', 'full_name': 'Tom Smith', 'company': 'Company 2', 'nationality': 'United States'},\n",
    "    {'name': 'EMP-0003', 'first_name': 'Andrew', 'last_name': 'Sebastian', 'full_name': 'Andrew Sebastian', 'company': 'Company 3', 'nationality': 'United States'},\n",
    "    {'name': 'EMP-0005', 'first_name': 'Ying Han', 'last_name': 'Tan', 'full_name': 'Ying Han Tan', 'company': 'Company 1', 'nationality': 'Australia'},\n",
    "    {'name': 'EMP-0015', 'first_name': 'Kenneth', 'last_name': 'Ng', 'full_name': 'Kenneth Ng', 'company': 'Company 3', 'nationality': 'United States'},\n",
    "    {'name': 'EMP-0018', 'first_name': 'Rubby', 'last_name': 'Lee', 'full_name': 'Rubby Lee', 'company': 'Company 2', 'nationality': 'Hong Kong'},\n",
    "    {'name': 'EMP-0017', 'first_name': 'Robert', 'last_name': 'White', 'full_name': 'Robert White', 'company': 'Company 1', 'nationality': 'United Kingdom'}\n",
    "]"
   ]
  },
  {
   "cell_type": "code",
   "execution_count": 3,
   "id": "34419d4a-d4fa-47bf-9df2-c1c0be2d4f3f",
   "metadata": {},
   "outputs": [
    {
     "name": "stdout",
     "output_type": "stream",
     "text": [
      "Task 1 Result:\n",
      "[{'name': 'Company 3'}, {'name': 'Company 2'}, {'name': 'Company 1'}]\n"
     ]
    }
   ],
   "source": [
    "# Task 1: List all companies sorted by company name in reverse order\n",
    "def get_sorted_companies():\n",
    "    sorted_companies = sorted(company_detail_list, key=lambda x: x['name'], reverse=True)\n",
    "    return [{\"name\": company[\"name\"]} for company in sorted_companies]\n",
    "\n",
    "print(\"Task 1 Result:\")\n",
    "print(get_sorted_companies())"
   ]
  },
  {
   "cell_type": "code",
   "execution_count": 4,
   "id": "cf5941f6-0864-4c1f-88b4-e5496919b5f9",
   "metadata": {},
   "outputs": [
    {
     "name": "stdout",
     "output_type": "stream",
     "text": [
      "\n",
      "Task 2 Result:\n",
      "Company 1: Retail (United States)\n",
      "Company 2: Technology (United Kingdom)\n",
      "Company 3: Healthcare (United States)\n"
     ]
    }
   ],
   "source": [
    "# Task 2: Print all Domain value in every company\n",
    "def print_company_domains():\n",
    "    for company in company_detail_list:\n",
    "        print(f\"{company['name']}: {company['domain']} ({company['country']})\")\n",
    "\n",
    "print(\"\\nTask 2 Result:\")\n",
    "print_company_domains()"
   ]
  },
  {
   "cell_type": "code",
   "execution_count": 5,
   "id": "32ef226a-947a-4f0e-9269-7b1bcef8bcfc",
   "metadata": {},
   "outputs": [
    {
     "name": "stdout",
     "output_type": "stream",
     "text": [
      "\n",
      "Task 3 Result:\n",
      "{'Retail': ['John Doe', 'Ying Han Tan', 'Robert White'], 'Technology': ['Tom Smith', 'Rubby Lee'], 'Healthcare': ['Andrew Sebastian', 'Kenneth Ng']}\n"
     ]
    }
   ],
   "source": [
    "# Task 3: List all employees work by company domain\n",
    "def employees_by_domain():\n",
    "    domain_dict = {}\n",
    "    for company in company_detail_list:\n",
    "        domain = company['domain']\n",
    "        domain_dict[domain] = [emp['full_name'] for emp in employee_detail_list if emp['company'] == company['name']]\n",
    "    return domain_dict\n",
    "\n",
    "print(\"\\nTask 3 Result:\")\n",
    "print(employees_by_domain())"
   ]
  },
  {
   "cell_type": "code",
   "execution_count": 6,
   "id": "046b600d-785c-4cac-a138-4ae1b5b2d1df",
   "metadata": {},
   "outputs": [
    {
     "name": "stdout",
     "output_type": "stream",
     "text": [
      "\n",
      "Task 4 Result:\n",
      "[{'full_name': 'John Doe', 'company': 'Company 1', 'country': 'United States'}, {'full_name': 'Tom Smith', 'company': 'Company 2', 'country': 'United Kingdom'}, {'full_name': 'Andrew Sebastian', 'company': 'Company 3', 'country': 'United States'}, {'full_name': 'Ying Han Tan', 'company': 'Company 1', 'country': 'United States'}, {'full_name': 'Kenneth Ng', 'company': 'Company 3', 'country': 'United States'}, {'full_name': 'Rubby Lee', 'company': 'Company 2', 'country': 'United Kingdom'}, {'full_name': 'Robert White', 'company': 'Company 1', 'country': 'United States'}]\n"
     ]
    }
   ],
   "source": [
    "# Task 4: Function that returns employees with their company's country\n",
    "def employees_with_company_country():\n",
    "    result = []\n",
    "    for emp in employee_detail_list:\n",
    "        company_info = next((comp for comp in company_detail_list if comp['name'] == emp['company']), None)\n",
    "        if company_info:\n",
    "            result.append({\"full_name\": emp['full_name'], \"company\": emp['company'], \"country\": company_info['country']})\n",
    "    return result\n",
    "\n",
    "print(\"\\nTask 4 Result:\")\n",
    "print(employees_with_company_country())\n"
   ]
  },
  {
   "cell_type": "code",
   "execution_count": 7,
   "id": "7c323ac6-cecc-4611-8792-7f2179113487",
   "metadata": {},
   "outputs": [
    {
     "name": "stdout",
     "output_type": "stream",
     "text": [
      "\n",
      "Task 5 Result:\n",
      "[{'company': 'Company 1', 'employee_nationality': {'Australia': 2, 'United Kingdom': 1}}, {'company': 'Company 2', 'employee_nationality': {'United States': 1, 'Hong Kong': 1}}, {'company': 'Company 3', 'employee_nationality': {'United States': 2}}]\n"
     ]
    }
   ],
   "source": [
    "# Task 5: Function that returns companies with the number of employees by nationality\n",
    "from collections import Counter\n",
    "\n",
    "def nationality_count_by_company():\n",
    "    result = []\n",
    "    for company in company_detail_list:\n",
    "        employees_in_company = [emp['nationality'] for emp in employee_detail_list if emp['company'] == company['name']]\n",
    "        nationality_count = dict(Counter(employees_in_company))\n",
    "        result.append({\"company\": company['name'], \"employee_nationality\": nationality_count})\n",
    "    return result\n",
    "\n",
    "print(\"\\nTask 5 Result:\")\n",
    "print(nationality_count_by_company())"
   ]
  }
 ],
 "metadata": {
  "kernelspec": {
   "display_name": "Python 3 (ipykernel)",
   "language": "python",
   "name": "python3"
  },
  "language_info": {
   "codemirror_mode": {
    "name": "ipython",
    "version": 3
   },
   "file_extension": ".py",
   "mimetype": "text/x-python",
   "name": "python",
   "nbconvert_exporter": "python",
   "pygments_lexer": "ipython3",
   "version": "3.12.6"
  }
 },
 "nbformat": 4,
 "nbformat_minor": 5
}
